{
 "cells": [
  {
   "cell_type": "code",
   "execution_count": null,
   "metadata": {},
   "outputs": [],
   "source": [
    "# by writing the elements\n",
    "\n",
    "list1 = [\"first\", \"second\", \"third\"]\n",
    "print(list1)\n",
    "\n",
    "# by multiplication\n",
    "\n",
    "list2 = [0] * 10\n",
    "print(list2)\n",
    "\n",
    "# by a classical for loop\n",
    "\n",
    "list3 = list()\n",
    "for i in range (10):\n",
    "    list3. append(i)\n",
    "    \n",
    "print(list3)\n",
    "\n",
    "# List Comprehension\n",
    "# shorter syntex\n",
    "\n",
    "list4 = [0,1,2,3,4,5,6,7,8]\n",
    "newlist4 = [x for x in list4 if x % 2 ==0]\n",
    "\n",
    "print(newlist4)"
   ]
  }
 ],
 "metadata": {
  "language_info": {
   "name": "python"
  },
  "orig_nbformat": 4
 },
 "nbformat": 4,
 "nbformat_minor": 2
}
