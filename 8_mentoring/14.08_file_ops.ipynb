{
 "cells": [
  {
   "cell_type": "code",
   "execution_count": null,
   "metadata": {},
   "outputs": [],
   "source": []
  },
  {
   "cell_type": "code",
   "execution_count": null,
   "metadata": {},
   "outputs": [],
   "source": [
    "file1 = open(\"test.txt\")        # = \"r\" ot \"rt\"\n",
    "file2 = open(\"test.txt\", \"w\")   # = write in text mode \n",
    "file3 = open(\"test.txt\", \"r+b\") # read and write binary mode\n",
    "\n",
    "# do file ops - remember to close at the end\n",
    "\n",
    "file1.close() \n",
    "file2.close() \n",
    "file3.close() \n",
    "\n",
    "# a control to check where the file is searched for if relative path is provided\n",
    "\n",
    "import opsos.getcwd()\n",
    "\n",
    "os.chdir #change directory\n",
    "\n",
    "os.listdir()\n",
    "\n",
    "x = open(\"testtext\")"
   ]
  }
 ],
 "metadata": {
  "language_info": {
   "name": "python"
  },
  "orig_nbformat": 4
 },
 "nbformat": 4,
 "nbformat_minor": 2
}
