{
 "cells": [
  {
   "attachments": {},
   "cell_type": "markdown",
   "metadata": {},
   "source": [
    "# Collection \n",
    "\n",
    "It is a group of items that are stored together. \n",
    "\n",
    "They are used to organize and manage data in a more efficient way.\n",
    "\n",
    "There are various types of collections, list, tulips, sets, and dictionaries.\n",
    "\n",
    "\n",
    "# List\n",
    "\n",
    "A linear collection of items that are ordenened and they are changeable.\n",
    "To create list use []"
   ]
  },
  {
   "cell_type": "code",
   "execution_count": null,
   "metadata": {},
   "outputs": [],
   "source": [
    "# Create an empty list\n",
    "\n",
    "my_list = [1,2,3,4,5,] \n",
    "my_list\n",
    "\n",
    "my list[] # empty list\n",
    "my list = list()\n"
   ]
  },
  {
   "attachments": {},
   "cell_type": "markdown",
   "metadata": {},
   "source": [
    "- Get element by index:"
   ]
  },
  {
   "cell_type": "code",
   "execution_count": null,
   "metadata": {},
   "outputs": [],
   "source": [
    "my list[2] # the index count starts at zero"
   ]
  },
  {
   "attachments": {},
   "cell_type": "markdown",
   "metadata": {},
   "source": [
    "### Mutability\n",
    "\n",
    "They are mutable, you can modify their contents.\n"
   ]
  },
  {
   "cell_type": "code",
   "execution_count": null,
   "metadata": {},
   "outputs": [],
   "source": [
    "my_list[2] = 6 # It will change the third element into 6\n",
    "my_list\n",
    "\n",
    "my_str = \"Bla\"\n",
    "my_str[2]"
   ]
  },
  {
   "cell_type": "code",
   "execution_count": null,
   "metadata": {},
   "outputs": [],
   "source": [
    "my_list2 = my_list\n",
    "my_list\n",
    "\n",
    "(id(my_list), id(my_list2))\n",
    "\n",
    "my_list2[0] = \"Hello World\"\n",
    "my_list2\n",
    "\n"
   ]
  },
  {
   "attachments": {},
   "cell_type": "markdown",
   "metadata": {},
   "source": [
    "### Tuples \n",
    "\n",
    "They are similar to a list, but INMUTABLE\n",
    "The content can not change"
   ]
  },
  {
   "cell_type": "code",
   "execution_count": null,
   "metadata": {},
   "outputs": [],
   "source": [
    "my_tuple = (1,2,3,4,5)\n",
    "my_tuple\n",
    "\n",
    "my_tupple = (\"hello\", 1, True, [1,2])\n",
    "my_tuple[0]\n",
    "\n"
   ]
  },
  {
   "cell_type": "code",
   "execution_count": null,
   "metadata": {},
   "outputs": [],
   "source": [
    "# Loop over List\n",
    "\n",
    "# my_list: (1,2,3,4,5)\n",
    "# for item in my list:\n",
    "#     print(item)\n",
    "    \n",
    "# for index in range(len(my_list)):\n",
    "#     print(my_list[index])\n",
    "\n"
   ]
  },
  {
   "cell_type": "code",
   "execution_count": null,
   "metadata": {},
   "outputs": [],
   "source": [
    "for item in my_tuple:\n",
    "    print(item)\n",
    "    \n",
    "    "
   ]
  },
  {
   "cell_type": "code",
   "execution_count": null,
   "metadata": {},
   "outputs": [],
   "source": []
  }
 ],
 "metadata": {
  "language_info": {
   "name": "python"
  },
  "orig_nbformat": 4
 },
 "nbformat": 4,
 "nbformat_minor": 2
}
