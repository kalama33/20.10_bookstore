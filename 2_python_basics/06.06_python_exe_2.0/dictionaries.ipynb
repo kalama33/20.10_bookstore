{
 "cells": [
  {
   "attachments": {},
   "cell_type": "markdown",
   "metadata": {},
   "source": [
    "## Dictionaries\n",
    "\n",
    "- Store and retrieve data\n",
    "- keys in a dictionary must be unique and inmutable\n",
    "- values can be of any data type\n",
    "\n",
    "\n",
    "\n",
    "## Zip\n"
   ]
  },
  {
   "cell_type": "code",
   "execution_count": null,
   "metadata": {},
   "outputs": [],
   "source": [
    "### Exercise\n",
    "\n",
    "a = [(1,2,3),\n",
    "     (4, 5, 6)]\n",
    "\n",
    "list(zip(a[0], a[1]))"
   ]
  }
 ],
 "metadata": {
  "language_info": {
   "name": "python"
  },
  "orig_nbformat": 4
 },
 "nbformat": 4,
 "nbformat_minor": 2
}
